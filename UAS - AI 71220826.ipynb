{
 "cells": [
  {
   "cell_type": "markdown",
   "id": "ad0c1758-8daf-4727-9617-24465e733f65",
   "metadata": {},
   "source": [
    "## Kecerdasan Buatan - UAS\n",
    "**Nama: Hermanus Rangga Horo**  \n",
    "**Nim : 71220826**  \n",
    "**Grup : A**  \n",
    "\n",
    "Kasus : Deteksi Kecurangan Asursansi"
   ]
  },
  {
   "cell_type": "code",
   "execution_count": null,
   "id": "04ef7ab1-0bbe-49a8-bc91-8bb47d3b7627",
   "metadata": {},
   "outputs": [],
   "source": []
  }
 ],
 "metadata": {
  "kernelspec": {
   "display_name": "Python 3 (ipykernel)",
   "language": "python",
   "name": "python3"
  },
  "language_info": {
   "codemirror_mode": {
    "name": "ipython",
    "version": 3
   },
   "file_extension": ".py",
   "mimetype": "text/x-python",
   "name": "python",
   "nbconvert_exporter": "python",
   "pygments_lexer": "ipython3",
   "version": "3.12.3"
  }
 },
 "nbformat": 4,
 "nbformat_minor": 5
}
